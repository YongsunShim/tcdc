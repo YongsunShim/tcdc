{
 "cells": [
  {
   "cell_type": "code",
   "execution_count": 4,
   "metadata": {},
   "outputs": [],
   "source": [
    "import pandas as pd\n",
    "from sklearn.model_selection import train_test_split"
   ]
  },
  {
   "cell_type": "code",
   "execution_count": 5,
   "metadata": {},
   "outputs": [],
   "source": [
    "from sklearn.model_selection import StratifiedKFold"
   ]
  },
  {
   "cell_type": "code",
   "execution_count": 6,
   "metadata": {},
   "outputs": [],
   "source": [
    "from sklearn.preprocessing import Normalizer"
   ]
  },
  {
   "cell_type": "code",
   "execution_count": 7,
   "metadata": {
    "scrolled": true
   },
   "outputs": [],
   "source": [
    "from sklearn.svm import SVC\n",
    "from sklearn.ensemble import RandomForestClassifier as rf\n",
    "import xgboost as xgb"
   ]
  },
  {
   "cell_type": "code",
   "execution_count": 8,
   "metadata": {},
   "outputs": [],
   "source": [
    "from sklearn.model_selection import GridSearchCV\n"
   ]
  },
  {
   "cell_type": "code",
   "execution_count": 9,
   "metadata": {},
   "outputs": [],
   "source": [
    "from sklearn.metrics import make_scorer, matthews_corrcoef\n"
   ]
  },
  {
   "cell_type": "code",
   "execution_count": 10,
   "metadata": {},
   "outputs": [],
   "source": [
    "from sklearn.metrics import precision_score, f1_score, accuracy_score"
   ]
  },
  {
   "cell_type": "code",
   "execution_count": 11,
   "metadata": {},
   "outputs": [],
   "source": [
    "model_path = 'doc_sent_level'"
   ]
  },
  {
   "cell_type": "code",
   "execution_count": 12,
   "metadata": {},
   "outputs": [],
   "source": [
    "mcc_scorer = make_scorer(matthews_corrcoef)"
   ]
  },
  {
   "cell_type": "code",
   "execution_count": 13,
   "metadata": {},
   "outputs": [],
   "source": [
    "def GridSearch_table_(grid_clf, param_name,\n",
    "                          num_results=15,\n",
    "                          negative=False,\n",
    "                          graph=True,\n",
    "                          display_all_params=True):\n",
    "                        \n",
    "    from matplotlib      import pyplot as plt\n",
    "    from IPython.display import display\n",
    "    import pandas as pd\n",
    "\n",
    "    clf = grid_clf.best_estimator_\n",
    "    clf_params = grid_clf.best_params_\n",
    "    if negative:\n",
    "        clf_score = -grid_clf.best_score_\n",
    "    else:\n",
    "        clf_score = grid_clf.best_score_\n",
    "    clf_stdev = grid_clf.cv_results_['std_test_score'][grid_clf.best_index_]\n",
    "    cv_results = grid_clf.cv_results_\n",
    "\n",
    "    print(\"best parameters: {}\".format(clf_params))\n",
    "    print(\"best score:      {:0.5f} (+/-{:0.5f})\".format(clf_score, clf_stdev))\n",
    "\n",
    "    # pick out the best results\n",
    "    # =========================\n",
    "    scores_df = pd.DataFrame(cv_results).sort_values(by='rank_test_score')\n",
    "\n",
    "    best_row = scores_df.iloc[0, :]\n",
    "    if negative:\n",
    "        best_mean = -best_row['mean_test_score']\n",
    "    else:\n",
    "        best_mean = best_row['mean_test_score']\n",
    "    best_stdev = best_row['std_test_score']\n",
    "    best_param = best_row['param_' + param_name]\n",
    "\n",
    "    # display the top 'num_results' results\n",
    "    # =====================================\n",
    "    display(pd.DataFrame(cv_results) \\\n",
    "            .sort_values(by='rank_test_score').head(num_results))\n"
   ]
  },
  {
   "cell_type": "code",
   "execution_count": null,
   "metadata": {},
   "outputs": [],
   "source": []
  },
  {
   "cell_type": "markdown",
   "metadata": {},
   "source": [
    "## Get data"
   ]
  },
  {
   "cell_type": "code",
   "execution_count": 16,
   "metadata": {},
   "outputs": [
    {
     "ename": "FileNotFoundError",
     "evalue": "[Errno 2] File ./tcdc/doc_sent_level.csv does not exist: './tcdc/doc_sent_level.csv'",
     "output_type": "error",
     "traceback": [
      "\u001b[0;31m---------------------------------------------------------------------------\u001b[0m",
      "\u001b[0;31mFileNotFoundError\u001b[0m                         Traceback (most recent call last)",
      "\u001b[0;32m<ipython-input-16-609ce6043f8d>\u001b[0m in \u001b[0;36m<module>\u001b[0;34m\u001b[0m\n\u001b[1;32m      1\u001b[0m \u001b[0mpath_data\u001b[0m \u001b[0;34m=\u001b[0m \u001b[0;34m'./tcdc/'\u001b[0m\u001b[0;34m+\u001b[0m\u001b[0mmodel_path\u001b[0m\u001b[0;34m+\u001b[0m\u001b[0;34m'.csv'\u001b[0m\u001b[0;34m\u001b[0m\u001b[0;34m\u001b[0m\u001b[0m\n\u001b[0;32m----> 2\u001b[0;31m \u001b[0mdf_raw\u001b[0m \u001b[0;34m=\u001b[0m \u001b[0mpd\u001b[0m\u001b[0;34m.\u001b[0m\u001b[0mread_csv\u001b[0m\u001b[0;34m(\u001b[0m\u001b[0mpath_data\u001b[0m\u001b[0;34m,\u001b[0m \u001b[0mheader\u001b[0m\u001b[0;34m=\u001b[0m\u001b[0;32mNone\u001b[0m\u001b[0;34m)\u001b[0m\u001b[0;34m\u001b[0m\u001b[0;34m\u001b[0m\u001b[0m\n\u001b[0m\u001b[1;32m      3\u001b[0m \u001b[0mdf_raw\u001b[0m\u001b[0;34m.\u001b[0m\u001b[0mhead\u001b[0m\u001b[0;34m(\u001b[0m\u001b[0;34m)\u001b[0m\u001b[0;34m\u001b[0m\u001b[0;34m\u001b[0m\u001b[0m\n",
      "\u001b[0;32m~/anaconda3/envs/ys36/lib/python3.6/site-packages/pandas/io/parsers.py\u001b[0m in \u001b[0;36mparser_f\u001b[0;34m(filepath_or_buffer, sep, delimiter, header, names, index_col, usecols, squeeze, prefix, mangle_dupe_cols, dtype, engine, converters, true_values, false_values, skipinitialspace, skiprows, skipfooter, nrows, na_values, keep_default_na, na_filter, verbose, skip_blank_lines, parse_dates, infer_datetime_format, keep_date_col, date_parser, dayfirst, cache_dates, iterator, chunksize, compression, thousands, decimal, lineterminator, quotechar, quoting, doublequote, escapechar, comment, encoding, dialect, error_bad_lines, warn_bad_lines, delim_whitespace, low_memory, memory_map, float_precision)\u001b[0m\n\u001b[1;32m    674\u001b[0m         )\n\u001b[1;32m    675\u001b[0m \u001b[0;34m\u001b[0m\u001b[0m\n\u001b[0;32m--> 676\u001b[0;31m         \u001b[0;32mreturn\u001b[0m \u001b[0m_read\u001b[0m\u001b[0;34m(\u001b[0m\u001b[0mfilepath_or_buffer\u001b[0m\u001b[0;34m,\u001b[0m \u001b[0mkwds\u001b[0m\u001b[0;34m)\u001b[0m\u001b[0;34m\u001b[0m\u001b[0;34m\u001b[0m\u001b[0m\n\u001b[0m\u001b[1;32m    677\u001b[0m \u001b[0;34m\u001b[0m\u001b[0m\n\u001b[1;32m    678\u001b[0m     \u001b[0mparser_f\u001b[0m\u001b[0;34m.\u001b[0m\u001b[0m__name__\u001b[0m \u001b[0;34m=\u001b[0m \u001b[0mname\u001b[0m\u001b[0;34m\u001b[0m\u001b[0;34m\u001b[0m\u001b[0m\n",
      "\u001b[0;32m~/anaconda3/envs/ys36/lib/python3.6/site-packages/pandas/io/parsers.py\u001b[0m in \u001b[0;36m_read\u001b[0;34m(filepath_or_buffer, kwds)\u001b[0m\n\u001b[1;32m    446\u001b[0m \u001b[0;34m\u001b[0m\u001b[0m\n\u001b[1;32m    447\u001b[0m     \u001b[0;31m# Create the parser.\u001b[0m\u001b[0;34m\u001b[0m\u001b[0;34m\u001b[0m\u001b[0;34m\u001b[0m\u001b[0m\n\u001b[0;32m--> 448\u001b[0;31m     \u001b[0mparser\u001b[0m \u001b[0;34m=\u001b[0m \u001b[0mTextFileReader\u001b[0m\u001b[0;34m(\u001b[0m\u001b[0mfp_or_buf\u001b[0m\u001b[0;34m,\u001b[0m \u001b[0;34m**\u001b[0m\u001b[0mkwds\u001b[0m\u001b[0;34m)\u001b[0m\u001b[0;34m\u001b[0m\u001b[0;34m\u001b[0m\u001b[0m\n\u001b[0m\u001b[1;32m    449\u001b[0m \u001b[0;34m\u001b[0m\u001b[0m\n\u001b[1;32m    450\u001b[0m     \u001b[0;32mif\u001b[0m \u001b[0mchunksize\u001b[0m \u001b[0;32mor\u001b[0m \u001b[0miterator\u001b[0m\u001b[0;34m:\u001b[0m\u001b[0;34m\u001b[0m\u001b[0;34m\u001b[0m\u001b[0m\n",
      "\u001b[0;32m~/anaconda3/envs/ys36/lib/python3.6/site-packages/pandas/io/parsers.py\u001b[0m in \u001b[0;36m__init__\u001b[0;34m(self, f, engine, **kwds)\u001b[0m\n\u001b[1;32m    878\u001b[0m             \u001b[0mself\u001b[0m\u001b[0;34m.\u001b[0m\u001b[0moptions\u001b[0m\u001b[0;34m[\u001b[0m\u001b[0;34m\"has_index_names\"\u001b[0m\u001b[0;34m]\u001b[0m \u001b[0;34m=\u001b[0m \u001b[0mkwds\u001b[0m\u001b[0;34m[\u001b[0m\u001b[0;34m\"has_index_names\"\u001b[0m\u001b[0;34m]\u001b[0m\u001b[0;34m\u001b[0m\u001b[0;34m\u001b[0m\u001b[0m\n\u001b[1;32m    879\u001b[0m \u001b[0;34m\u001b[0m\u001b[0m\n\u001b[0;32m--> 880\u001b[0;31m         \u001b[0mself\u001b[0m\u001b[0;34m.\u001b[0m\u001b[0m_make_engine\u001b[0m\u001b[0;34m(\u001b[0m\u001b[0mself\u001b[0m\u001b[0;34m.\u001b[0m\u001b[0mengine\u001b[0m\u001b[0;34m)\u001b[0m\u001b[0;34m\u001b[0m\u001b[0;34m\u001b[0m\u001b[0m\n\u001b[0m\u001b[1;32m    881\u001b[0m \u001b[0;34m\u001b[0m\u001b[0m\n\u001b[1;32m    882\u001b[0m     \u001b[0;32mdef\u001b[0m \u001b[0mclose\u001b[0m\u001b[0;34m(\u001b[0m\u001b[0mself\u001b[0m\u001b[0;34m)\u001b[0m\u001b[0;34m:\u001b[0m\u001b[0;34m\u001b[0m\u001b[0;34m\u001b[0m\u001b[0m\n",
      "\u001b[0;32m~/anaconda3/envs/ys36/lib/python3.6/site-packages/pandas/io/parsers.py\u001b[0m in \u001b[0;36m_make_engine\u001b[0;34m(self, engine)\u001b[0m\n\u001b[1;32m   1112\u001b[0m     \u001b[0;32mdef\u001b[0m \u001b[0m_make_engine\u001b[0m\u001b[0;34m(\u001b[0m\u001b[0mself\u001b[0m\u001b[0;34m,\u001b[0m \u001b[0mengine\u001b[0m\u001b[0;34m=\u001b[0m\u001b[0;34m\"c\"\u001b[0m\u001b[0;34m)\u001b[0m\u001b[0;34m:\u001b[0m\u001b[0;34m\u001b[0m\u001b[0;34m\u001b[0m\u001b[0m\n\u001b[1;32m   1113\u001b[0m         \u001b[0;32mif\u001b[0m \u001b[0mengine\u001b[0m \u001b[0;34m==\u001b[0m \u001b[0;34m\"c\"\u001b[0m\u001b[0;34m:\u001b[0m\u001b[0;34m\u001b[0m\u001b[0;34m\u001b[0m\u001b[0m\n\u001b[0;32m-> 1114\u001b[0;31m             \u001b[0mself\u001b[0m\u001b[0;34m.\u001b[0m\u001b[0m_engine\u001b[0m \u001b[0;34m=\u001b[0m \u001b[0mCParserWrapper\u001b[0m\u001b[0;34m(\u001b[0m\u001b[0mself\u001b[0m\u001b[0;34m.\u001b[0m\u001b[0mf\u001b[0m\u001b[0;34m,\u001b[0m \u001b[0;34m**\u001b[0m\u001b[0mself\u001b[0m\u001b[0;34m.\u001b[0m\u001b[0moptions\u001b[0m\u001b[0;34m)\u001b[0m\u001b[0;34m\u001b[0m\u001b[0;34m\u001b[0m\u001b[0m\n\u001b[0m\u001b[1;32m   1115\u001b[0m         \u001b[0;32melse\u001b[0m\u001b[0;34m:\u001b[0m\u001b[0;34m\u001b[0m\u001b[0;34m\u001b[0m\u001b[0m\n\u001b[1;32m   1116\u001b[0m             \u001b[0;32mif\u001b[0m \u001b[0mengine\u001b[0m \u001b[0;34m==\u001b[0m \u001b[0;34m\"python\"\u001b[0m\u001b[0;34m:\u001b[0m\u001b[0;34m\u001b[0m\u001b[0;34m\u001b[0m\u001b[0m\n",
      "\u001b[0;32m~/anaconda3/envs/ys36/lib/python3.6/site-packages/pandas/io/parsers.py\u001b[0m in \u001b[0;36m__init__\u001b[0;34m(self, src, **kwds)\u001b[0m\n\u001b[1;32m   1889\u001b[0m         \u001b[0mkwds\u001b[0m\u001b[0;34m[\u001b[0m\u001b[0;34m\"usecols\"\u001b[0m\u001b[0;34m]\u001b[0m \u001b[0;34m=\u001b[0m \u001b[0mself\u001b[0m\u001b[0;34m.\u001b[0m\u001b[0musecols\u001b[0m\u001b[0;34m\u001b[0m\u001b[0;34m\u001b[0m\u001b[0m\n\u001b[1;32m   1890\u001b[0m \u001b[0;34m\u001b[0m\u001b[0m\n\u001b[0;32m-> 1891\u001b[0;31m         \u001b[0mself\u001b[0m\u001b[0;34m.\u001b[0m\u001b[0m_reader\u001b[0m \u001b[0;34m=\u001b[0m \u001b[0mparsers\u001b[0m\u001b[0;34m.\u001b[0m\u001b[0mTextReader\u001b[0m\u001b[0;34m(\u001b[0m\u001b[0msrc\u001b[0m\u001b[0;34m,\u001b[0m \u001b[0;34m**\u001b[0m\u001b[0mkwds\u001b[0m\u001b[0;34m)\u001b[0m\u001b[0;34m\u001b[0m\u001b[0;34m\u001b[0m\u001b[0m\n\u001b[0m\u001b[1;32m   1892\u001b[0m         \u001b[0mself\u001b[0m\u001b[0;34m.\u001b[0m\u001b[0munnamed_cols\u001b[0m \u001b[0;34m=\u001b[0m \u001b[0mself\u001b[0m\u001b[0;34m.\u001b[0m\u001b[0m_reader\u001b[0m\u001b[0;34m.\u001b[0m\u001b[0munnamed_cols\u001b[0m\u001b[0;34m\u001b[0m\u001b[0;34m\u001b[0m\u001b[0m\n\u001b[1;32m   1893\u001b[0m \u001b[0;34m\u001b[0m\u001b[0m\n",
      "\u001b[0;32mpandas/_libs/parsers.pyx\u001b[0m in \u001b[0;36mpandas._libs.parsers.TextReader.__cinit__\u001b[0;34m()\u001b[0m\n",
      "\u001b[0;32mpandas/_libs/parsers.pyx\u001b[0m in \u001b[0;36mpandas._libs.parsers.TextReader._setup_parser_source\u001b[0;34m()\u001b[0m\n",
      "\u001b[0;31mFileNotFoundError\u001b[0m: [Errno 2] File ./tcdc/doc_sent_level.csv does not exist: './tcdc/doc_sent_level.csv'"
     ]
    }
   ],
   "source": [
    "path_data = './tcdc/'+model_path+'.csv'\n",
    "df_raw = pd.read_csv(path_data, header=None)\n",
    "df_raw.head()"
   ]
  },
  {
   "cell_type": "code",
   "execution_count": 32,
   "metadata": {},
   "outputs": [
    {
     "data": {
      "text/plain": [
       "(492, 200)"
      ]
     },
     "execution_count": 32,
     "metadata": {},
     "output_type": "execute_result"
    }
   ],
   "source": [
    "X = df_raw.values[:, 1:]\n",
    "X.shape\n",
    "\n",
    "y = df_raw.values[:, 0]\n",
    "y.shape"
   ]
  },
  {
   "cell_type": "markdown",
   "metadata": {},
   "source": [
    "# 5-CV"
   ]
  },
  {
   "cell_type": "code",
   "execution_count": 34,
   "metadata": {},
   "outputs": [],
   "source": [
    "skf = StratifiedKFold(n_splits=5)"
   ]
  },
  {
   "cell_type": "code",
   "execution_count": 35,
   "metadata": {
    "scrolled": true
   },
   "outputs": [
    {
     "name": "stdout",
     "output_type": "stream",
     "text": [
      "CV:1\t ACC_train:92.88%\tACC_te:62.63%\tDataDist:65.66\n",
      "----------------------------------------\n",
      "CV:2\t ACC_train:93.64%\tACC_te:68.69%\tDataDist:66.67\n",
      "----------------------------------------\n",
      "CV:3\t ACC_train:93.91%\tACC_te:65.31%\tDataDist:66.33\n",
      "----------------------------------------\n",
      "CV:4\t ACC_train:92.39%\tACC_te:75.51%\tDataDist:66.33\n",
      "----------------------------------------\n",
      "CV:5\t ACC_train:93.15%\tACC_te:70.41%\tDataDist:66.33\n",
      "----------------------------------------\n"
     ]
    }
   ],
   "source": [
    "iter_idx=0\n",
    "for train_index, test_index in skf.split(X, y):\n",
    "    iter_idx+=1\n",
    "    X_train, X_test = X[train_index], X[test_index]\n",
    "    y_train, y_test = y[train_index], y[test_index]\n",
    "    \n",
    "    transformer = Normalizer().fit(X_train)\n",
    "    X_train = transformer.transform(X_train)\n",
    "    X_test = transformer.transform(X_test)\n",
    "    \n",
    "    clf = xgb.XGBClassifier(reg_lambda=1, alpha=1, tree_method='auto', \n",
    "                            booster='dart', normalize_type ='forest', rate_drop=0.0)\n",
    "    clf.fit(X_train, y_train)\n",
    "    \n",
    "    acc_tr = clf.score(X_train, y_train)\n",
    "    acc_te = clf.score(X_test, y_test)\n",
    "    acc_base = 1-(y_test.sum()/len(y_test))\n",
    "    \n",
    "    print('CV:{}\\t ACC_train:{:.2f}%\\tACC_te:{:.2f}%\\tDataDist:{:.2f}'.format(iter_idx, acc_tr*100, acc_te*100, acc_base*100))\n",
    "    print('-'*40)\n",
    "    "
   ]
  },
  {
   "cell_type": "code",
   "execution_count": null,
   "metadata": {},
   "outputs": [],
   "source": []
  },
  {
   "cell_type": "markdown",
   "metadata": {},
   "source": [
    "## Grid search"
   ]
  },
  {
   "cell_type": "code",
   "execution_count": 36,
   "metadata": {},
   "outputs": [],
   "source": [
    "X_train, X_test, y_train, y_test = train_test_split( X, y, test_size=0.2, random_state=1, stratify=y)"
   ]
  },
  {
   "cell_type": "code",
   "execution_count": 39,
   "metadata": {},
   "outputs": [],
   "source": [
    "transformer = Normalizer().fit(X)\n",
    "X = transformer.transform(X)"
   ]
  },
  {
   "cell_type": "code",
   "execution_count": 40,
   "metadata": {},
   "outputs": [
    {
     "data": {
      "text/plain": [
       "0.6666666666666667"
      ]
     },
     "execution_count": 40,
     "metadata": {},
     "output_type": "execute_result"
    }
   ],
   "source": [
    "1 - y_test.sum()/len(y_test)"
   ]
  },
  {
   "cell_type": "code",
   "execution_count": 41,
   "metadata": {},
   "outputs": [],
   "source": [
    "parameters = {'subsample':[0.68], 'reg_lambda':[2.5]}"
   ]
  },
  {
   "cell_type": "code",
   "execution_count": 42,
   "metadata": {},
   "outputs": [],
   "source": [
    "gscv = GridSearchCV(estimator=xgb.XGBClassifier(), param_grid=parameters,\n",
    "                   n_jobs=32, return_train_score=True, cv=5, \n",
    "                   verbose=1)"
   ]
  },
  {
   "cell_type": "code",
   "execution_count": 43,
   "metadata": {},
   "outputs": [
    {
     "name": "stdout",
     "output_type": "stream",
     "text": [
      "Fitting 5 folds for each of 12 candidates, totalling 60 fits\n"
     ]
    },
    {
     "name": "stderr",
     "output_type": "stream",
     "text": [
      "[Parallel(n_jobs=32)]: Using backend LokyBackend with 32 concurrent workers.\n",
      "[Parallel(n_jobs=32)]: Done  58 out of  60 | elapsed:    1.8s remaining:    0.1s\n",
      "[Parallel(n_jobs=32)]: Done  60 out of  60 | elapsed:    1.8s finished\n"
     ]
    },
    {
     "data": {
      "text/plain": [
       "GridSearchCV(cv=5,\n",
       "             estimator=XGBClassifier(base_score=None, booster=None,\n",
       "                                     colsample_bylevel=None,\n",
       "                                     colsample_bynode=None,\n",
       "                                     colsample_bytree=None, gamma=None,\n",
       "                                     gpu_id=None, importance_type='gain',\n",
       "                                     interaction_constraints=None,\n",
       "                                     learning_rate=None, max_delta_step=None,\n",
       "                                     max_depth=None, min_child_weight=None,\n",
       "                                     missing=nan, monotone_constraints=None,\n",
       "                                     n_estimators=100, n_jobs=None,\n",
       "                                     num_parallel_tree=None, random_state=None,\n",
       "                                     reg_alpha=None, reg_lambda=None,\n",
       "                                     scale_pos_weight=None, subsample=None,\n",
       "                                     tree_method=None, validate_parameters=None,\n",
       "                                     verbosity=None),\n",
       "             n_jobs=32,\n",
       "             param_grid={'reg_alpha': [0.0, 0.5], 'reg_lambda': [1.0, 1.5, 2.0],\n",
       "                         'subsample': [1.0, 0.8]},\n",
       "             return_train_score=True, verbose=1)"
      ]
     },
     "execution_count": 43,
     "metadata": {},
     "output_type": "execute_result"
    }
   ],
   "source": [
    "gscv.fit(X_train, y_train)"
   ]
  },
  {
   "cell_type": "markdown",
   "metadata": {},
   "source": [
    "MCC"
   ]
  },
  {
   "cell_type": "code",
   "execution_count": 44,
   "metadata": {
    "scrolled": true
   },
   "outputs": [
    {
     "name": "stdout",
     "output_type": "stream",
     "text": [
      "best parameters: {'reg_alpha': 0.0, 'reg_lambda': 2.0, 'subsample': 0.8}\n",
      "best score:      0.66660 (+/-0.02548)\n"
     ]
    },
    {
     "data": {
      "text/html": [
       "<div>\n",
       "<style scoped>\n",
       "    .dataframe tbody tr th:only-of-type {\n",
       "        vertical-align: middle;\n",
       "    }\n",
       "\n",
       "    .dataframe tbody tr th {\n",
       "        vertical-align: top;\n",
       "    }\n",
       "\n",
       "    .dataframe thead th {\n",
       "        text-align: right;\n",
       "    }\n",
       "</style>\n",
       "<table border=\"1\" class=\"dataframe\">\n",
       "  <thead>\n",
       "    <tr style=\"text-align: right;\">\n",
       "      <th></th>\n",
       "      <th>mean_fit_time</th>\n",
       "      <th>std_fit_time</th>\n",
       "      <th>mean_score_time</th>\n",
       "      <th>std_score_time</th>\n",
       "      <th>param_reg_alpha</th>\n",
       "      <th>param_reg_lambda</th>\n",
       "      <th>param_subsample</th>\n",
       "      <th>params</th>\n",
       "      <th>split0_test_score</th>\n",
       "      <th>split1_test_score</th>\n",
       "      <th>...</th>\n",
       "      <th>mean_test_score</th>\n",
       "      <th>std_test_score</th>\n",
       "      <th>rank_test_score</th>\n",
       "      <th>split0_train_score</th>\n",
       "      <th>split1_train_score</th>\n",
       "      <th>split2_train_score</th>\n",
       "      <th>split3_train_score</th>\n",
       "      <th>split4_train_score</th>\n",
       "      <th>mean_train_score</th>\n",
       "      <th>std_train_score</th>\n",
       "    </tr>\n",
       "  </thead>\n",
       "  <tbody>\n",
       "    <tr>\n",
       "      <th>5</th>\n",
       "      <td>0.676099</td>\n",
       "      <td>0.112198</td>\n",
       "      <td>0.002852</td>\n",
       "      <td>0.000711</td>\n",
       "      <td>0</td>\n",
       "      <td>2</td>\n",
       "      <td>0.8</td>\n",
       "      <td>{'reg_alpha': 0.0, 'reg_lambda': 2.0, 'subsamp...</td>\n",
       "      <td>0.683544</td>\n",
       "      <td>0.645570</td>\n",
       "      <td>...</td>\n",
       "      <td>0.666602</td>\n",
       "      <td>0.025479</td>\n",
       "      <td>1</td>\n",
       "      <td>0.94586</td>\n",
       "      <td>0.93949</td>\n",
       "      <td>0.952229</td>\n",
       "      <td>0.952381</td>\n",
       "      <td>0.961905</td>\n",
       "      <td>0.950373</td>\n",
       "      <td>0.007473</td>\n",
       "    </tr>\n",
       "    <tr>\n",
       "      <th>10</th>\n",
       "      <td>0.697379</td>\n",
       "      <td>0.070571</td>\n",
       "      <td>0.001542</td>\n",
       "      <td>0.000048</td>\n",
       "      <td>0.5</td>\n",
       "      <td>2</td>\n",
       "      <td>1</td>\n",
       "      <td>{'reg_alpha': 0.5, 'reg_lambda': 2.0, 'subsamp...</td>\n",
       "      <td>0.696203</td>\n",
       "      <td>0.696203</td>\n",
       "      <td>...</td>\n",
       "      <td>0.664038</td>\n",
       "      <td>0.033597</td>\n",
       "      <td>2</td>\n",
       "      <td>0.94586</td>\n",
       "      <td>0.93949</td>\n",
       "      <td>0.952229</td>\n",
       "      <td>0.952381</td>\n",
       "      <td>0.961905</td>\n",
       "      <td>0.950373</td>\n",
       "      <td>0.007473</td>\n",
       "    </tr>\n",
       "    <tr>\n",
       "      <th>7</th>\n",
       "      <td>0.636311</td>\n",
       "      <td>0.095367</td>\n",
       "      <td>0.002150</td>\n",
       "      <td>0.000436</td>\n",
       "      <td>0.5</td>\n",
       "      <td>1</td>\n",
       "      <td>0.8</td>\n",
       "      <td>{'reg_alpha': 0.5, 'reg_lambda': 1.0, 'subsamp...</td>\n",
       "      <td>0.658228</td>\n",
       "      <td>0.645570</td>\n",
       "      <td>...</td>\n",
       "      <td>0.661603</td>\n",
       "      <td>0.012121</td>\n",
       "      <td>3</td>\n",
       "      <td>0.94586</td>\n",
       "      <td>0.93949</td>\n",
       "      <td>0.952229</td>\n",
       "      <td>0.952381</td>\n",
       "      <td>0.961905</td>\n",
       "      <td>0.950373</td>\n",
       "      <td>0.007473</td>\n",
       "    </tr>\n",
       "    <tr>\n",
       "      <th>9</th>\n",
       "      <td>0.626579</td>\n",
       "      <td>0.061098</td>\n",
       "      <td>0.002048</td>\n",
       "      <td>0.000425</td>\n",
       "      <td>0.5</td>\n",
       "      <td>1.5</td>\n",
       "      <td>0.8</td>\n",
       "      <td>{'reg_alpha': 0.5, 'reg_lambda': 1.5, 'subsamp...</td>\n",
       "      <td>0.658228</td>\n",
       "      <td>0.658228</td>\n",
       "      <td>...</td>\n",
       "      <td>0.661603</td>\n",
       "      <td>0.009102</td>\n",
       "      <td>3</td>\n",
       "      <td>0.94586</td>\n",
       "      <td>0.93949</td>\n",
       "      <td>0.952229</td>\n",
       "      <td>0.952381</td>\n",
       "      <td>0.961905</td>\n",
       "      <td>0.950373</td>\n",
       "      <td>0.007473</td>\n",
       "    </tr>\n",
       "    <tr>\n",
       "      <th>4</th>\n",
       "      <td>0.744572</td>\n",
       "      <td>0.150000</td>\n",
       "      <td>0.002381</td>\n",
       "      <td>0.000741</td>\n",
       "      <td>0</td>\n",
       "      <td>2</td>\n",
       "      <td>1</td>\n",
       "      <td>{'reg_alpha': 0.0, 'reg_lambda': 2.0, 'subsamp...</td>\n",
       "      <td>0.670886</td>\n",
       "      <td>0.658228</td>\n",
       "      <td>...</td>\n",
       "      <td>0.651250</td>\n",
       "      <td>0.032456</td>\n",
       "      <td>5</td>\n",
       "      <td>0.94586</td>\n",
       "      <td>0.93949</td>\n",
       "      <td>0.952229</td>\n",
       "      <td>0.952381</td>\n",
       "      <td>0.961905</td>\n",
       "      <td>0.950373</td>\n",
       "      <td>0.007473</td>\n",
       "    </tr>\n",
       "    <tr>\n",
       "      <th>0</th>\n",
       "      <td>0.934369</td>\n",
       "      <td>0.025107</td>\n",
       "      <td>0.003485</td>\n",
       "      <td>0.000376</td>\n",
       "      <td>0</td>\n",
       "      <td>1</td>\n",
       "      <td>1</td>\n",
       "      <td>{'reg_alpha': 0.0, 'reg_lambda': 1.0, 'subsamp...</td>\n",
       "      <td>0.645570</td>\n",
       "      <td>0.670886</td>\n",
       "      <td>...</td>\n",
       "      <td>0.648718</td>\n",
       "      <td>0.037923</td>\n",
       "      <td>6</td>\n",
       "      <td>0.94586</td>\n",
       "      <td>0.93949</td>\n",
       "      <td>0.952229</td>\n",
       "      <td>0.952381</td>\n",
       "      <td>0.961905</td>\n",
       "      <td>0.950373</td>\n",
       "      <td>0.007473</td>\n",
       "    </tr>\n",
       "    <tr>\n",
       "      <th>11</th>\n",
       "      <td>0.663162</td>\n",
       "      <td>0.053306</td>\n",
       "      <td>0.001726</td>\n",
       "      <td>0.000380</td>\n",
       "      <td>0.5</td>\n",
       "      <td>2</td>\n",
       "      <td>0.8</td>\n",
       "      <td>{'reg_alpha': 0.5, 'reg_lambda': 2.0, 'subsamp...</td>\n",
       "      <td>0.670886</td>\n",
       "      <td>0.594937</td>\n",
       "      <td>...</td>\n",
       "      <td>0.641285</td>\n",
       "      <td>0.026115</td>\n",
       "      <td>7</td>\n",
       "      <td>0.94586</td>\n",
       "      <td>0.93949</td>\n",
       "      <td>0.952229</td>\n",
       "      <td>0.952381</td>\n",
       "      <td>0.961905</td>\n",
       "      <td>0.950373</td>\n",
       "      <td>0.007473</td>\n",
       "    </tr>\n",
       "    <tr>\n",
       "      <th>2</th>\n",
       "      <td>0.949319</td>\n",
       "      <td>0.038288</td>\n",
       "      <td>0.003205</td>\n",
       "      <td>0.000517</td>\n",
       "      <td>0</td>\n",
       "      <td>1.5</td>\n",
       "      <td>1</td>\n",
       "      <td>{'reg_alpha': 0.0, 'reg_lambda': 1.5, 'subsamp...</td>\n",
       "      <td>0.658228</td>\n",
       "      <td>0.658228</td>\n",
       "      <td>...</td>\n",
       "      <td>0.641155</td>\n",
       "      <td>0.021453</td>\n",
       "      <td>8</td>\n",
       "      <td>0.94586</td>\n",
       "      <td>0.93949</td>\n",
       "      <td>0.952229</td>\n",
       "      <td>0.952381</td>\n",
       "      <td>0.961905</td>\n",
       "      <td>0.950373</td>\n",
       "      <td>0.007473</td>\n",
       "    </tr>\n",
       "    <tr>\n",
       "      <th>3</th>\n",
       "      <td>0.740274</td>\n",
       "      <td>0.080419</td>\n",
       "      <td>0.002641</td>\n",
       "      <td>0.000571</td>\n",
       "      <td>0</td>\n",
       "      <td>1.5</td>\n",
       "      <td>0.8</td>\n",
       "      <td>{'reg_alpha': 0.0, 'reg_lambda': 1.5, 'subsamp...</td>\n",
       "      <td>0.607595</td>\n",
       "      <td>0.658228</td>\n",
       "      <td>...</td>\n",
       "      <td>0.636060</td>\n",
       "      <td>0.037279</td>\n",
       "      <td>9</td>\n",
       "      <td>0.94586</td>\n",
       "      <td>0.93949</td>\n",
       "      <td>0.952229</td>\n",
       "      <td>0.952381</td>\n",
       "      <td>0.961905</td>\n",
       "      <td>0.950373</td>\n",
       "      <td>0.007473</td>\n",
       "    </tr>\n",
       "    <tr>\n",
       "      <th>1</th>\n",
       "      <td>0.763498</td>\n",
       "      <td>0.085045</td>\n",
       "      <td>0.003597</td>\n",
       "      <td>0.001145</td>\n",
       "      <td>0</td>\n",
       "      <td>1</td>\n",
       "      <td>0.8</td>\n",
       "      <td>{'reg_alpha': 0.0, 'reg_lambda': 1.0, 'subsamp...</td>\n",
       "      <td>0.645570</td>\n",
       "      <td>0.645570</td>\n",
       "      <td>...</td>\n",
       "      <td>0.636027</td>\n",
       "      <td>0.023842</td>\n",
       "      <td>10</td>\n",
       "      <td>0.94586</td>\n",
       "      <td>0.93949</td>\n",
       "      <td>0.952229</td>\n",
       "      <td>0.952381</td>\n",
       "      <td>0.961905</td>\n",
       "      <td>0.950373</td>\n",
       "      <td>0.007473</td>\n",
       "    </tr>\n",
       "    <tr>\n",
       "      <th>8</th>\n",
       "      <td>0.624194</td>\n",
       "      <td>0.041018</td>\n",
       "      <td>0.001564</td>\n",
       "      <td>0.000016</td>\n",
       "      <td>0.5</td>\n",
       "      <td>1.5</td>\n",
       "      <td>1</td>\n",
       "      <td>{'reg_alpha': 0.5, 'reg_lambda': 1.5, 'subsamp...</td>\n",
       "      <td>0.607595</td>\n",
       "      <td>0.670886</td>\n",
       "      <td>...</td>\n",
       "      <td>0.633561</td>\n",
       "      <td>0.026230</td>\n",
       "      <td>11</td>\n",
       "      <td>0.94586</td>\n",
       "      <td>0.93949</td>\n",
       "      <td>0.952229</td>\n",
       "      <td>0.952381</td>\n",
       "      <td>0.961905</td>\n",
       "      <td>0.950373</td>\n",
       "      <td>0.007473</td>\n",
       "    </tr>\n",
       "    <tr>\n",
       "      <th>6</th>\n",
       "      <td>0.631754</td>\n",
       "      <td>0.142095</td>\n",
       "      <td>0.002114</td>\n",
       "      <td>0.000748</td>\n",
       "      <td>0.5</td>\n",
       "      <td>1</td>\n",
       "      <td>1</td>\n",
       "      <td>{'reg_alpha': 0.5, 'reg_lambda': 1.0, 'subsamp...</td>\n",
       "      <td>0.658228</td>\n",
       "      <td>0.645570</td>\n",
       "      <td>...</td>\n",
       "      <td>0.623304</td>\n",
       "      <td>0.028766</td>\n",
       "      <td>12</td>\n",
       "      <td>0.94586</td>\n",
       "      <td>0.93949</td>\n",
       "      <td>0.952229</td>\n",
       "      <td>0.952381</td>\n",
       "      <td>0.961905</td>\n",
       "      <td>0.950373</td>\n",
       "      <td>0.007473</td>\n",
       "    </tr>\n",
       "  </tbody>\n",
       "</table>\n",
       "<p>12 rows × 23 columns</p>\n",
       "</div>"
      ],
      "text/plain": [
       "    mean_fit_time  std_fit_time  mean_score_time  std_score_time  \\\n",
       "5        0.676099      0.112198         0.002852        0.000711   \n",
       "10       0.697379      0.070571         0.001542        0.000048   \n",
       "7        0.636311      0.095367         0.002150        0.000436   \n",
       "9        0.626579      0.061098         0.002048        0.000425   \n",
       "4        0.744572      0.150000         0.002381        0.000741   \n",
       "0        0.934369      0.025107         0.003485        0.000376   \n",
       "11       0.663162      0.053306         0.001726        0.000380   \n",
       "2        0.949319      0.038288         0.003205        0.000517   \n",
       "3        0.740274      0.080419         0.002641        0.000571   \n",
       "1        0.763498      0.085045         0.003597        0.001145   \n",
       "8        0.624194      0.041018         0.001564        0.000016   \n",
       "6        0.631754      0.142095         0.002114        0.000748   \n",
       "\n",
       "   param_reg_alpha param_reg_lambda param_subsample  \\\n",
       "5                0                2             0.8   \n",
       "10             0.5                2               1   \n",
       "7              0.5                1             0.8   \n",
       "9              0.5              1.5             0.8   \n",
       "4                0                2               1   \n",
       "0                0                1               1   \n",
       "11             0.5                2             0.8   \n",
       "2                0              1.5               1   \n",
       "3                0              1.5             0.8   \n",
       "1                0                1             0.8   \n",
       "8              0.5              1.5               1   \n",
       "6              0.5                1               1   \n",
       "\n",
       "                                               params  split0_test_score  \\\n",
       "5   {'reg_alpha': 0.0, 'reg_lambda': 2.0, 'subsamp...           0.683544   \n",
       "10  {'reg_alpha': 0.5, 'reg_lambda': 2.0, 'subsamp...           0.696203   \n",
       "7   {'reg_alpha': 0.5, 'reg_lambda': 1.0, 'subsamp...           0.658228   \n",
       "9   {'reg_alpha': 0.5, 'reg_lambda': 1.5, 'subsamp...           0.658228   \n",
       "4   {'reg_alpha': 0.0, 'reg_lambda': 2.0, 'subsamp...           0.670886   \n",
       "0   {'reg_alpha': 0.0, 'reg_lambda': 1.0, 'subsamp...           0.645570   \n",
       "11  {'reg_alpha': 0.5, 'reg_lambda': 2.0, 'subsamp...           0.670886   \n",
       "2   {'reg_alpha': 0.0, 'reg_lambda': 1.5, 'subsamp...           0.658228   \n",
       "3   {'reg_alpha': 0.0, 'reg_lambda': 1.5, 'subsamp...           0.607595   \n",
       "1   {'reg_alpha': 0.0, 'reg_lambda': 1.0, 'subsamp...           0.645570   \n",
       "8   {'reg_alpha': 0.5, 'reg_lambda': 1.5, 'subsamp...           0.607595   \n",
       "6   {'reg_alpha': 0.5, 'reg_lambda': 1.0, 'subsamp...           0.658228   \n",
       "\n",
       "    split1_test_score  ...  mean_test_score  std_test_score  rank_test_score  \\\n",
       "5            0.645570  ...         0.666602        0.025479                1   \n",
       "10           0.696203  ...         0.664038        0.033597                2   \n",
       "7            0.645570  ...         0.661603        0.012121                3   \n",
       "9            0.658228  ...         0.661603        0.009102                3   \n",
       "4            0.658228  ...         0.651250        0.032456                5   \n",
       "0            0.670886  ...         0.648718        0.037923                6   \n",
       "11           0.594937  ...         0.641285        0.026115                7   \n",
       "2            0.658228  ...         0.641155        0.021453                8   \n",
       "3            0.658228  ...         0.636060        0.037279                9   \n",
       "1            0.645570  ...         0.636027        0.023842               10   \n",
       "8            0.670886  ...         0.633561        0.026230               11   \n",
       "6            0.645570  ...         0.623304        0.028766               12   \n",
       "\n",
       "    split0_train_score  split1_train_score  split2_train_score  \\\n",
       "5              0.94586             0.93949            0.952229   \n",
       "10             0.94586             0.93949            0.952229   \n",
       "7              0.94586             0.93949            0.952229   \n",
       "9              0.94586             0.93949            0.952229   \n",
       "4              0.94586             0.93949            0.952229   \n",
       "0              0.94586             0.93949            0.952229   \n",
       "11             0.94586             0.93949            0.952229   \n",
       "2              0.94586             0.93949            0.952229   \n",
       "3              0.94586             0.93949            0.952229   \n",
       "1              0.94586             0.93949            0.952229   \n",
       "8              0.94586             0.93949            0.952229   \n",
       "6              0.94586             0.93949            0.952229   \n",
       "\n",
       "    split3_train_score  split4_train_score  mean_train_score  std_train_score  \n",
       "5             0.952381            0.961905          0.950373         0.007473  \n",
       "10            0.952381            0.961905          0.950373         0.007473  \n",
       "7             0.952381            0.961905          0.950373         0.007473  \n",
       "9             0.952381            0.961905          0.950373         0.007473  \n",
       "4             0.952381            0.961905          0.950373         0.007473  \n",
       "0             0.952381            0.961905          0.950373         0.007473  \n",
       "11            0.952381            0.961905          0.950373         0.007473  \n",
       "2             0.952381            0.961905          0.950373         0.007473  \n",
       "3             0.952381            0.961905          0.950373         0.007473  \n",
       "1             0.952381            0.961905          0.950373         0.007473  \n",
       "8             0.952381            0.961905          0.950373         0.007473  \n",
       "6             0.952381            0.961905          0.950373         0.007473  \n",
       "\n",
       "[12 rows x 23 columns]"
      ]
     },
     "metadata": {},
     "output_type": "display_data"
    }
   ],
   "source": [
    "GridSearch_table_(gscv, param_name='subsample', num_results=5, display_all_params=False, negative=False,)"
   ]
  },
  {
   "cell_type": "code",
   "execution_count": null,
   "metadata": {},
   "outputs": [],
   "source": [
    "result = pd.DataFrame(gscv.cv_results_)\n",
    "\n",
    "result.T.to_csv('./tcdc/'+model_path+'_result.csv')"
   ]
  }
 ],
 "metadata": {
  "kernelspec": {
   "display_name": "Python 3",
   "language": "python",
   "name": "python3"
  },
  "language_info": {
   "codemirror_mode": {
    "name": "ipython",
    "version": 3
   },
   "file_extension": ".py",
   "mimetype": "text/x-python",
   "name": "python",
   "nbconvert_exporter": "python",
   "pygments_lexer": "ipython3",
   "version": "3.6.10"
  }
 },
 "nbformat": 4,
 "nbformat_minor": 2
}
