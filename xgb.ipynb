{
 "cells": [
  {
   "cell_type": "code",
   "execution_count": 2,
   "metadata": {},
   "outputs": [],
   "source": [
    "import pandas as pd\n",
    "from sklearn.model_selection import train_test_split"
   ]
  },
  {
   "cell_type": "code",
   "execution_count": 3,
   "metadata": {},
   "outputs": [],
   "source": [
    "from sklearn.model_selection import StratifiedKFold"
   ]
  },
  {
   "cell_type": "code",
   "execution_count": 4,
   "metadata": {},
   "outputs": [],
   "source": [
    "from sklearn.preprocessing import Normalizer"
   ]
  },
  {
   "cell_type": "code",
   "execution_count": 5,
   "metadata": {
    "scrolled": true
   },
   "outputs": [],
   "source": [
    "import xgboost as xgb"
   ]
  },
  {
   "cell_type": "code",
   "execution_count": 6,
   "metadata": {},
   "outputs": [],
   "source": [
    "from sklearn.model_selection import GridSearchCV"
   ]
  },
  {
   "cell_type": "code",
   "execution_count": 7,
   "metadata": {},
   "outputs": [],
   "source": [
    "def GridSearch_table_(grid_clf, param_name,\n",
    "                          num_results=15,\n",
    "                          negative=False,\n",
    "                          graph=True,\n",
    "                          display_all_params=True):\n",
    "                        \n",
    "    from matplotlib      import pyplot as plt\n",
    "    from IPython.display import display\n",
    "    import pandas as pd\n",
    "\n",
    "    clf = grid_clf.best_estimator_\n",
    "    clf_params = grid_clf.best_params_\n",
    "    if negative:\n",
    "        clf_score = -grid_clf.best_score_\n",
    "    else:\n",
    "        clf_score = grid_clf.best_score_\n",
    "    clf_stdev = grid_clf.cv_results_['std_test_score'][grid_clf.best_index_]\n",
    "    cv_results = grid_clf.cv_results_\n",
    "\n",
    "    print(\"best parameters: {}\".format(clf_params))\n",
    "    print(\"best score:      {:0.5f} (+/-{:0.5f})\".format(clf_score, clf_stdev))\n",
    "\n",
    "    # pick out the best results\n",
    "    # =========================\n",
    "    scores_df = pd.DataFrame(cv_results).sort_values(by='rank_test_score')\n",
    "\n",
    "    best_row = scores_df.iloc[0, :]\n",
    "    if negative:\n",
    "        best_mean = -best_row['mean_test_score']\n",
    "    else:\n",
    "        best_mean = best_row['mean_test_score']\n",
    "    best_stdev = best_row['std_test_score']\n",
    "    best_param = best_row['param_' + param_name]\n",
    "\n",
    "    # display the top 'num_results' results\n",
    "    # =====================================\n",
    "    display(pd.DataFrame(cv_results) \\\n",
    "            .sort_values(by='rank_test_score').head(num_results))\n"
   ]
  },
  {
   "cell_type": "markdown",
   "metadata": {},
   "source": [
    "## Get data"
   ]
  },
  {
   "cell_type": "code",
   "execution_count": 8,
   "metadata": {},
   "outputs": [],
   "source": [
    "path_data = './data/doc2vec_sent2vec.csv'"
   ]
  },
  {
   "cell_type": "code",
   "execution_count": 9,
   "metadata": {},
   "outputs": [
    {
     "data": {
      "text/html": [
       "<div>\n",
       "<style scoped>\n",
       "    .dataframe tbody tr th:only-of-type {\n",
       "        vertical-align: middle;\n",
       "    }\n",
       "\n",
       "    .dataframe tbody tr th {\n",
       "        vertical-align: top;\n",
       "    }\n",
       "\n",
       "    .dataframe thead th {\n",
       "        text-align: right;\n",
       "    }\n",
       "</style>\n",
       "<table border=\"1\" class=\"dataframe\">\n",
       "  <thead>\n",
       "    <tr style=\"text-align: right;\">\n",
       "      <th></th>\n",
       "      <th>0</th>\n",
       "      <th>1</th>\n",
       "      <th>2</th>\n",
       "      <th>3</th>\n",
       "      <th>4</th>\n",
       "      <th>5</th>\n",
       "      <th>6</th>\n",
       "      <th>7</th>\n",
       "      <th>8</th>\n",
       "      <th>9</th>\n",
       "      <th>...</th>\n",
       "      <th>391</th>\n",
       "      <th>392</th>\n",
       "      <th>393</th>\n",
       "      <th>394</th>\n",
       "      <th>395</th>\n",
       "      <th>396</th>\n",
       "      <th>397</th>\n",
       "      <th>398</th>\n",
       "      <th>399</th>\n",
       "      <th>400</th>\n",
       "    </tr>\n",
       "  </thead>\n",
       "  <tbody>\n",
       "    <tr>\n",
       "      <th>0</th>\n",
       "      <td>1</td>\n",
       "      <td>20.788064</td>\n",
       "      <td>-18.971292</td>\n",
       "      <td>-8.525642</td>\n",
       "      <td>-3.687134</td>\n",
       "      <td>0.142734</td>\n",
       "      <td>-1.223368</td>\n",
       "      <td>1.836743</td>\n",
       "      <td>20.060271</td>\n",
       "      <td>-25.867048</td>\n",
       "      <td>...</td>\n",
       "      <td>7.987743</td>\n",
       "      <td>2.089254</td>\n",
       "      <td>-6.490690</td>\n",
       "      <td>3.175118</td>\n",
       "      <td>-0.283899</td>\n",
       "      <td>5.651085</td>\n",
       "      <td>-7.583316</td>\n",
       "      <td>-4.915240</td>\n",
       "      <td>1.859407</td>\n",
       "      <td>-7.926692</td>\n",
       "    </tr>\n",
       "    <tr>\n",
       "      <th>1</th>\n",
       "      <td>1</td>\n",
       "      <td>-19.798808</td>\n",
       "      <td>2.569585</td>\n",
       "      <td>-7.573567</td>\n",
       "      <td>4.264966</td>\n",
       "      <td>3.649690</td>\n",
       "      <td>-11.950274</td>\n",
       "      <td>-8.226631</td>\n",
       "      <td>-4.561374</td>\n",
       "      <td>-4.737407</td>\n",
       "      <td>...</td>\n",
       "      <td>-4.739744</td>\n",
       "      <td>-1.725886</td>\n",
       "      <td>-2.229027</td>\n",
       "      <td>-4.138669</td>\n",
       "      <td>3.398651</td>\n",
       "      <td>-0.863069</td>\n",
       "      <td>5.894590</td>\n",
       "      <td>0.592377</td>\n",
       "      <td>-6.799195</td>\n",
       "      <td>-1.536797</td>\n",
       "    </tr>\n",
       "    <tr>\n",
       "      <th>2</th>\n",
       "      <td>1</td>\n",
       "      <td>1.991485</td>\n",
       "      <td>-12.735020</td>\n",
       "      <td>13.912511</td>\n",
       "      <td>-0.210726</td>\n",
       "      <td>11.173428</td>\n",
       "      <td>-23.962668</td>\n",
       "      <td>6.367440</td>\n",
       "      <td>-3.158386</td>\n",
       "      <td>13.750451</td>\n",
       "      <td>...</td>\n",
       "      <td>5.070027</td>\n",
       "      <td>-2.858725</td>\n",
       "      <td>-1.799049</td>\n",
       "      <td>-14.032194</td>\n",
       "      <td>4.661084</td>\n",
       "      <td>-13.954815</td>\n",
       "      <td>5.682345</td>\n",
       "      <td>-3.050350</td>\n",
       "      <td>-5.657385</td>\n",
       "      <td>0.776699</td>\n",
       "    </tr>\n",
       "    <tr>\n",
       "      <th>3</th>\n",
       "      <td>1</td>\n",
       "      <td>6.715877</td>\n",
       "      <td>10.344400</td>\n",
       "      <td>-39.449538</td>\n",
       "      <td>-2.592975</td>\n",
       "      <td>6.341183</td>\n",
       "      <td>6.834799</td>\n",
       "      <td>17.586052</td>\n",
       "      <td>0.794526</td>\n",
       "      <td>-7.377308</td>\n",
       "      <td>...</td>\n",
       "      <td>4.442969</td>\n",
       "      <td>-0.399130</td>\n",
       "      <td>1.816349</td>\n",
       "      <td>-1.786013</td>\n",
       "      <td>2.168513</td>\n",
       "      <td>-2.393544</td>\n",
       "      <td>-3.981643</td>\n",
       "      <td>3.117143</td>\n",
       "      <td>-0.851954</td>\n",
       "      <td>-2.733818</td>\n",
       "    </tr>\n",
       "    <tr>\n",
       "      <th>4</th>\n",
       "      <td>1</td>\n",
       "      <td>19.452202</td>\n",
       "      <td>-1.247697</td>\n",
       "      <td>21.751097</td>\n",
       "      <td>-2.425588</td>\n",
       "      <td>-22.390577</td>\n",
       "      <td>18.295256</td>\n",
       "      <td>19.884521</td>\n",
       "      <td>4.638236</td>\n",
       "      <td>8.087818</td>\n",
       "      <td>...</td>\n",
       "      <td>6.118254</td>\n",
       "      <td>0.273864</td>\n",
       "      <td>0.541738</td>\n",
       "      <td>-1.836016</td>\n",
       "      <td>2.705096</td>\n",
       "      <td>-1.045078</td>\n",
       "      <td>1.969317</td>\n",
       "      <td>-2.412351</td>\n",
       "      <td>-1.173704</td>\n",
       "      <td>-2.341343</td>\n",
       "    </tr>\n",
       "  </tbody>\n",
       "</table>\n",
       "<p>5 rows × 401 columns</p>\n",
       "</div>"
      ],
      "text/plain": [
       "   0          1          2          3         4          5          6    \\\n",
       "0    1  20.788064 -18.971292  -8.525642 -3.687134   0.142734  -1.223368   \n",
       "1    1 -19.798808   2.569585  -7.573567  4.264966   3.649690 -11.950274   \n",
       "2    1   1.991485 -12.735020  13.912511 -0.210726  11.173428 -23.962668   \n",
       "3    1   6.715877  10.344400 -39.449538 -2.592975   6.341183   6.834799   \n",
       "4    1  19.452202  -1.247697  21.751097 -2.425588 -22.390577  18.295256   \n",
       "\n",
       "         7          8          9    ...       391       392       393  \\\n",
       "0   1.836743  20.060271 -25.867048  ...  7.987743  2.089254 -6.490690   \n",
       "1  -8.226631  -4.561374  -4.737407  ... -4.739744 -1.725886 -2.229027   \n",
       "2   6.367440  -3.158386  13.750451  ...  5.070027 -2.858725 -1.799049   \n",
       "3  17.586052   0.794526  -7.377308  ...  4.442969 -0.399130  1.816349   \n",
       "4  19.884521   4.638236   8.087818  ...  6.118254  0.273864  0.541738   \n",
       "\n",
       "         394       395        396       397       398       399       400  \n",
       "0   3.175118 -0.283899   5.651085 -7.583316 -4.915240  1.859407 -7.926692  \n",
       "1  -4.138669  3.398651  -0.863069  5.894590  0.592377 -6.799195 -1.536797  \n",
       "2 -14.032194  4.661084 -13.954815  5.682345 -3.050350 -5.657385  0.776699  \n",
       "3  -1.786013  2.168513  -2.393544 -3.981643  3.117143 -0.851954 -2.733818  \n",
       "4  -1.836016  2.705096  -1.045078  1.969317 -2.412351 -1.173704 -2.341343  \n",
       "\n",
       "[5 rows x 401 columns]"
      ]
     },
     "execution_count": 9,
     "metadata": {},
     "output_type": "execute_result"
    }
   ],
   "source": [
    "df_raw = pd.read_csv(path_data, header=None)\n",
    "df_raw.head()"
   ]
  },
  {
   "cell_type": "code",
   "execution_count": 10,
   "metadata": {},
   "outputs": [
    {
     "data": {
      "text/plain": [
       "(568, 400)"
      ]
     },
     "execution_count": 10,
     "metadata": {},
     "output_type": "execute_result"
    }
   ],
   "source": [
    "X = df_raw.values[:, 1:]\n",
    "X.shape"
   ]
  },
  {
   "cell_type": "code",
   "execution_count": 11,
   "metadata": {},
   "outputs": [
    {
     "data": {
      "text/plain": [
       "(568,)"
      ]
     },
     "execution_count": 11,
     "metadata": {},
     "output_type": "execute_result"
    }
   ],
   "source": [
    "y = df_raw.values[:, 0]\n",
    "y.shape"
   ]
  },
  {
   "cell_type": "code",
   "execution_count": 12,
   "metadata": {},
   "outputs": [],
   "source": [
    "X_train, X_test, y_train, y_test = train_test_split( X, y, test_size=0.2, random_state=1, stratify=y)"
   ]
  },
  {
   "cell_type": "code",
   "execution_count": 13,
   "metadata": {},
   "outputs": [],
   "source": [
    "transformer = Normalizer().fit(X_train)\n",
    "X_train = transformer.transform(X_train)\n",
    "X_test = transformer.transform(X_test)"
   ]
  },
  {
   "cell_type": "markdown",
   "metadata": {},
   "source": [
    "# Parameter Setting"
   ]
  },
  {
   "cell_type": "code",
   "execution_count": 24,
   "metadata": {},
   "outputs": [],
   "source": [
    "parameters = {\n",
    "'eta' : [0.7],\n",
    "'gamma' : [0],\n",
    "'max_depth' : [7],\n",
    "'min_child_weight' : [1],\n",
    "'max_delta_step' : [0],\n",
    "'subsample' : [0.8],\n",
    "'sampling_method' : ['uniform'],\n",
    "'colsample_bytree' : [1],\n",
    "'colsample_bylevel' : [1],\n",
    "'colsample_bynode' : [1],\n",
    "'lambda' : [0.9],\n",
    "'alpha' : [1],\n",
    "'tree_method' : ['auto'],\n",
    "'sketch_eps' : [0.03],\n",
    "'scale_pos_weight' : [1],\n",
    "'updater' : ['grow_colmaker'],\n",
    "'refresh_leaf' : [0],\n",
    "'process_type' : ['default'],\n",
    "'grow_policy' : ['depthwise'],\n",
    "'max_leaves' : [0],\n",
    "'max_bin' : [256],\n",
    "'predictor' : ['auto'],\n",
    "'num_parallel_tree' : [2],\n",
    "             }"
   ]
  },
  {
   "cell_type": "code",
   "execution_count": 25,
   "metadata": {},
   "outputs": [],
   "source": [
    "gscv = GridSearchCV(estimator=xgb.XGBClassifier(), param_grid=parameters,\n",
    "                   n_jobs=32, return_train_score=True, cv=5, \n",
    "                   verbose=1)"
   ]
  },
  {
   "cell_type": "markdown",
   "metadata": {},
   "source": [
    "# Create Model"
   ]
  },
  {
   "cell_type": "code",
   "execution_count": 26,
   "metadata": {
    "scrolled": true
   },
   "outputs": [
    {
     "name": "stdout",
     "output_type": "stream",
     "text": [
      "[12:22:17] WARNING: ../src/gbm/gbtree.cc:81: DANGER AHEAD: You have manually specified `updater` parameter. The `tree_method` parameter will be ignored. Incorrect sequence of updaters will produce undefined behavior. For common uses, we recommend using `tree_method` parameter instead.\n",
      "[12:22:17] WARNING: ../src/learner.cc:1061: Starting in XGBoost 1.3.0, the default evaluation metric used with the objective 'binary:logistic' was changed from 'error' to 'logloss'. Explicitly set eval_metric if you'd like to restore the old behavior.\n"
     ]
    },
    {
     "data": {
      "image/png": "[encoded data removed]",
      "text/plain": [
       "<Figure size 432x288 with 1 Axes>"
      ]
     },
     "metadata": {
      "needs_background": "light"
     },
     "output_type": "display_data"
    }
   ],
   "source": [
    "import warnings\n",
    "warnings.filterwarnings('ignore')\n",
    "import csv\n",
    "from sklearn.model_selection import ParameterGrid\n",
    "from sklearn.metrics import roc_curve\n",
    "from sklearn.metrics import auc\n",
    "from sklearn.metrics import roc_auc_score\n",
    "from sklearn.metrics import precision_score, f1_score, accuracy_score, recall_score\n",
    "\n",
    "import scikitplot as skplt\n",
    "import matplotlib.pyplot as plt\n",
    "\n",
    "params = list(ParameterGrid(gscv.param_grid))\n",
    "\n",
    "model_results = []\n",
    "for p in params :\n",
    "    xgb_clf = xgb.XGBClassifier(**p)\n",
    "    xgb_clf.fit(X_train, y_train)\n",
    "    \n",
    "    y_pred = xgb_clf.predict(X_test)\n",
    "    y_pred_proba = xgb_clf.predict_proba(X_test)[:, 1]\n",
    "    \n",
    "    model_result = {'parameters' : p,\n",
    "                    'accuracy' : accuracy_score(y_test, y_pred),\n",
    "                    'roc_auc' : roc_auc_score(y_test, y_pred),\n",
    "                    'precision' : precision_score(y_test, y_pred),\n",
    "                    'recall' : recall_score(y_test, y_pred),\n",
    "                    'f1_score' : f1_score(y_test, y_pred),\n",
    "                    'roc_curve' : roc_curve(y_test, y_pred_proba)\n",
    "                   }\n",
    "    model_results.append(model_result)\n",
    "    \n",
    "from operator import itemgetter\n",
    "sorted_models = sorted(model_results, key=itemgetter('roc_auc'), reverse=True)\n",
    "\n",
    "fpr, tpr, thresholds = sorted_models[0]['roc_curve']\n",
    "roc_auc = sorted_models[0]['roc_auc']\n",
    "\n",
    "plt.title('ROC Curve of XGBoost model')\n",
    "plt.plot(fpr, tpr, 'b', label = 'ROC = %0.2f' % roc_auc)\n",
    "plt.legend(loc = 'lower right')\n",
    "plt.plot([0, 1], [0, 1],'r--')\n",
    "plt.xlim([0, 1])\n",
    "plt.ylim([0, 1])\n",
    "plt.ylabel('True Positive Rate')\n",
    "plt.xlabel('False Positive Rate')\n",
    "plt.show()"
   ]
  },
  {
   "cell_type": "code",
   "execution_count": null,
   "metadata": {},
   "outputs": [],
   "source": []
  }
 ],
 "metadata": {
  "kernelspec": {
   "display_name": "Python 3",
   "language": "python",
   "name": "python3"
  },
  "language_info": {
   "codemirror_mode": {
    "name": "ipython",
    "version": 3
   },
   "file_extension": ".py",
   "mimetype": "text/x-python",
   "name": "python",
   "nbconvert_exporter": "python",
   "pygments_lexer": "ipython3",
   "version": "3.7.10"
  }
 },
 "nbformat": 4,
 "nbformat_minor": 2
}
